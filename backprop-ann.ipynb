{
 "cells": [
  {
   "cell_type": "code",
   "execution_count": 1,
   "metadata": {},
   "outputs": [],
   "source": [
    "import pandas as pd\n",
    "import numpy as np"
   ]
  },
  {
   "cell_type": "code",
   "execution_count": 2,
   "metadata": {},
   "outputs": [],
   "source": [
    "def readArff(filename):\n",
    "    with open ('./NominalData/'+filename+'.arff', 'r') as f:\n",
    "        # split lines, remove ones with comments\n",
    "        lines = [line.lower() for line in f.read().split('\\n') if not line.startswith('%')]\n",
    "        \n",
    "    # remove empty lines\n",
    "    lines = [line for line in lines if line != '']\n",
    "    \n",
    "    columns = []\n",
    "    data = []\n",
    "    for index, line in enumerate(lines):\n",
    "        if line.startswith('@attribute'):\n",
    "            columns.append(line)\n",
    "            \n",
    "        if line.startswith('@data'):\n",
    "            # get the rest of the lines excluding the one that says @data\n",
    "            data = lines[index+1:]\n",
    "            break\n",
    "            \n",
    "    # clean column names -- '@attribute colname  \\t\\t\\t{a, b, ...}'\n",
    "    cleaned_columns = [c[11:c.index('{')].strip() for c in columns]\n",
    "    \n",
    "    # clean and split data\n",
    "    cleaned_data = [d.replace(', ', ',').split(',') for d in data]\n",
    "    \n",
    "    # create dataframe\n",
    "    return pd.DataFrame(cleaned_data, columns = cleaned_columns)"
   ]
  },
  {
   "cell_type": "code",
   "execution_count": 3,
   "metadata": {},
   "outputs": [],
   "source": [
    "def handle_attributes(data):\n",
    "    \"\"\"\n",
    "    Method to turn nominal values into binary valued attributes using the get_dummies function\n",
    "    \n",
    "    Returns numpy 2d array\n",
    "    \"\"\"\n",
    "    xs = pd.get_dummies(data.iloc[:,:-1])\n",
    "    y, unique = pd.factorize(data.iloc[:,-1])\n",
    "    \n",
    "    # merge back together\n",
    "    final = pd.concat([xs, pd.DataFrame(y, columns=[data.columns[-1]])], axis=1)\n",
    "    return final.values"
   ]
  },
  {
   "cell_type": "code",
   "execution_count": 4,
   "metadata": {},
   "outputs": [],
   "source": [
    "def accuracy(list1, list2):\n",
    "    \"\"\"\n",
    "    Computes the element-wise similarity between lists list1 and list2.\n",
    "    INPUTS:\n",
    "    - list1 [list]: list of arbitrary values\n",
    "    - list2 [list]: list of arbitrary values\n",
    "    RETURNS:\n",
    "    - n_correct [int]: total num. of elementwise matches\n",
    "    - n_total [int]: total num. elements compared\n",
    "    \"\"\"\n",
    "    assert len(list1) == len(list2)\n",
    "    n_total = len(list1)\n",
    "    n_correct = sum([list1[i] == list2[i] for i in range(n_total)])\n",
    "    n_incorrect = n_total-n_correct\n",
    "    print(f\"Total Correct: {n_correct}/{n_total} = {(n_correct/n_total)*100}%\")\n",
    "    print(f\"Total Incorrect: {n_incorrect}/{n_total} = {(n_incorrect/n_total)*100}%\")"
   ]
  },
  {
   "cell_type": "code",
   "execution_count": 5,
   "metadata": {},
   "outputs": [],
   "source": [
    "def sigmoid(x, deriv=False):\n",
    "    if(deriv):\n",
    "        return x*(1-x)\n",
    "    return 1/(1+np.exp(-x))"
   ]
  },
  {
   "cell_type": "code",
   "execution_count": 6,
   "metadata": {},
   "outputs": [],
   "source": [
    "def initialize_network(n_inputs, n_hidden, n_outputs):\n",
    "    \"\"\"\n",
    "    Data Structure:\n",
    "    1 hidden layer, 1 output layer\n",
    "    network = [hidden_layer, output_layer]\n",
    "    hidden_layer = [{weights: [1,2,3]},\n",
    "                    {weights: [1,2,3]},\n",
    "                    ...]\n",
    "    output_layer = [{weights: [1,2,3]},\n",
    "                    {weights: [1,2,3]},\n",
    "                    ...]\n",
    "    \n",
    "    *Note:* add 1 to n_inputs for w0 aka the bias which will be the *last* element in the array\n",
    "    \"\"\"\n",
    "    \n",
    "    hidden_layer = [{'weights': np.random.uniform(low=-0.05, high=0.05, size = (n_inputs+1, ))} \n",
    "                   for i in range(n_hidden)]\n",
    "    \n",
    "    output_layer = [{'weights': np.random.uniform(low=-0.05, high=0.05, size = (n_hidden+1, ))} \n",
    "                    for i in range(n_outputs)]\n",
    "    return hidden_layer, output_layer"
   ]
  },
  {
   "cell_type": "code",
   "execution_count": 7,
   "metadata": {},
   "outputs": [],
   "source": [
    "def calculate_linear_unit(weights, instances):\n",
    "    \"\"\"Compute the output unit \n",
    "    Calculated as a linear combination of the weights and instances\n",
    "    Bias is assumed to be the last element in weights\n",
    "    output_u = bias + sum(weight_i * input_i)\n",
    "    \"\"\"\n",
    "    output = weights[-1]\n",
    "    for i in range(len(weights)-1):\n",
    "        output += weights[i] * instances[i]\n",
    "    return output"
   ]
  },
  {
   "cell_type": "code",
   "execution_count": 8,
   "metadata": {},
   "outputs": [],
   "source": [
    "def propagate_forward(hidden_layer, output_layer, row):\n",
    "    \"\"\"\n",
    "    Propagates inputs forward through hidden layer then through output layer\n",
    "    Returns final output and saves output in dictionary at each neuron.\n",
    "    \"\"\"\n",
    "    instances = row\n",
    "    new_instances = []\n",
    "    \n",
    "    for neuron in hidden_layer:\n",
    "        activation = calculate_linear_unit(neuron['weights'], instances)\n",
    "        neuron['output'] = sigmoid(activation)\n",
    "        new_instances.append(neuron['output'])\n",
    "    \n",
    "    final = []\n",
    "    for neuron in output_layer:\n",
    "        activation = calculate_linear_unit(neuron['weights'], new_instances)\n",
    "        neuron['output'] = sigmoid(activation)\n",
    "        final.append(neuron['output'])\n",
    "    \n",
    "    return final"
   ]
  },
  {
   "cell_type": "code",
   "execution_count": 9,
   "metadata": {},
   "outputs": [],
   "source": [
    "def calculate_errors(layer, errors):\n",
    "    \"\"\"\n",
    "    Helper function for propagate_backwards\n",
    "    \n",
    "    Calculates error terms and stores it in the layer\n",
    "    \"\"\"\n",
    "    for i in range(len(layer)):\n",
    "        neuron = layer[i]\n",
    "        neuron['delta'] = errors[i] * sigmoid(neuron['output'], deriv=True)\n",
    "    return layer"
   ]
  },
  {
   "cell_type": "code",
   "execution_count": 10,
   "metadata": {},
   "outputs": [],
   "source": [
    "def propagate_backward(hidden_layer, output_layer, expected):\n",
    "    \"\"\"\n",
    "    Propagates errors back through the network\n",
    "    Output layer\n",
    "    \"\"\"\n",
    "    errors1 = []\n",
    "    for i in range(len(output_layer)):\n",
    "        neuron = output_layer[i]\n",
    "        errors1.append(expected[i] - neuron['output'])\n",
    "        \n",
    "    output_layer = calculate_errors(output_layer, errors1)\n",
    "    \n",
    "    errors2 = []\n",
    "    for i in range(len(hidden_layer)):\n",
    "        error = 0.0\n",
    "        for neuron in output_layer:\n",
    "            error += (neuron['weights'][i] * neuron['delta'])\n",
    "        errors2.append(error)\n",
    "        \n",
    "    hidden_layer = calculate_errors(hidden_layer, errors2)"
   ]
  },
  {
   "cell_type": "code",
   "execution_count": 11,
   "metadata": {},
   "outputs": [],
   "source": [
    "def update_layer_weights(layer, instances, l_rate):\n",
    "    \"\"\"\n",
    "    Helper function for update_weights\n",
    "    \"\"\"\n",
    "    for neuron in layer:\n",
    "        for i in range(len(instances)):\n",
    "            neuron['weights'][i] += l_rate * neuron['delta'] * instances[i]\n",
    "        # update bias\n",
    "        neuron['weights'][-1] += l_rate * neuron['delta']"
   ]
  },
  {
   "cell_type": "code",
   "execution_count": 12,
   "metadata": {},
   "outputs": [],
   "source": [
    "def update_weights(hidden_layer, output_layer, row, l_rate):\n",
    "    \"\"\"\n",
    "    Updates network weights with error based on equation:\n",
    "    w <-- w + n*delta*x\n",
    "    \"\"\"\n",
    "    \n",
    "    instances1 = row[:-1]\n",
    "    update_layer_weights(hidden_layer, instances1, l_rate)\n",
    "    \n",
    "    instances2 = [neuron['output'] for neuron in hidden_layer]\n",
    "    update_layer_weights(output_layer, instances2, l_rate)"
   ]
  },
  {
   "cell_type": "code",
   "execution_count": 13,
   "metadata": {},
   "outputs": [],
   "source": [
    "def train_network(hidden_layer, output_layer, data, l_rate, n_epoch, n_outputs):\n",
    "    \"\"\"\n",
    "    Repeat backprop algorithm as outlined in mitchell for n_epoch iterations\n",
    "    \"\"\"\n",
    "    for epoch in range(n_epoch):\n",
    "        for row in data:\n",
    "            outputs = propagate_forward(hidden_layer, output_layer, row)\n",
    "            expected = [0]*n_outputs\n",
    "            expected[row[-1]] = 1\n",
    "            propagate_backward(hidden_layer, output_layer, expected)\n",
    "            update_weights(hidden_layer, output_layer, row, l_rate)"
   ]
  },
  {
   "cell_type": "code",
   "execution_count": 14,
   "metadata": {},
   "outputs": [],
   "source": [
    "def predict(hidden_layer, output_layer, row):\n",
    "    outputs = propagate_forward(hidden_layer, output_layer, row)\n",
    "    return outputs.index(max(outputs))"
   ]
  },
  {
   "cell_type": "code",
   "execution_count": 15,
   "metadata": {},
   "outputs": [],
   "source": [
    "def full_dataset_test(dataset):\n",
    "    \"\"\"\n",
    "    Train on all rows. Test on all rows. \n",
    "    \n",
    "    Combine results for accuracy.\n",
    "    \"\"\"\n",
    "    n_inputs = len(dataset[0]) - 1\n",
    "    n_outputs = len(set([row[-1] for row in dataset]))\n",
    "    hidden_layer, output_layer = initialize_network(n_inputs, 2, n_outputs)\n",
    "    train_network(hidden_layer, output_layer, dataset, 0.05, 200, n_outputs)\n",
    "    \n",
    "    predictions = []\n",
    "    actual = []\n",
    "    for row in dataset:\n",
    "        predictions.append(predict(hidden_layer, output_layer, row))\n",
    "        actual.append(row[-1])\n",
    "    return accuracy(predictions, actual)"
   ]
  },
  {
   "cell_type": "code",
   "execution_count": 16,
   "metadata": {},
   "outputs": [],
   "source": [
    "def hold_one_out(dataset):\n",
    "    \"\"\"\n",
    "    Hold-one-out cross validation.\n",
    "    \n",
    "    Returns average results.\n",
    "    \"\"\"\n",
    "    n_inputs = len(dataset[0]) - 1\n",
    "    n_outputs = len(set([row[-1] for row in dataset]))\n",
    "    predictions = []\n",
    "    actual = []\n",
    "    \n",
    "    for i, instance in enumerate(dataset):\n",
    "        subset = np.delete(dataset, i, axis=0)\n",
    "        hidden_layer, output_layer = initialize_network(n_inputs, 2, n_outputs)\n",
    "        train_network(hidden_layer, output_layer, subset, 0.05, 200, n_outputs)\n",
    "        predictions.append(predict(hidden_layer, output_layer, instance))\n",
    "        actual.append(instance[-1])\n",
    "    return accuracy(predictions, actual)"
   ]
  },
  {
   "cell_type": "code",
   "execution_count": 17,
   "metadata": {},
   "outputs": [],
   "source": [
    "def ten_fold_cross_validation(dataset):\n",
    "    \"\"\"\n",
    "    10-fold cross validation. Splits data into 10 segments. Trains on 9 and tests on 1.\n",
    "    \n",
    "    Returns an average of all results for each 10 tests.\n",
    "    \"\"\"\n",
    "    n_inputs = len(dataset[0]) - 1\n",
    "    n_outputs = len(set([row[-1] for row in dataset]))\n",
    "    predictions = []\n",
    "    actual = []\n",
    "    \n",
    "    step = len(dataset)//10\n",
    "    indices = [i for i in range(0, len(dataset), step)]\n",
    "    prev = 0\n",
    "    count = 1\n",
    "    \n",
    "    for i in indices[1:]:\n",
    "        print(f\"Subset: {count}\")\n",
    "        subset = np.delete(dataset, slice(prev, i), axis=0)\n",
    "        hidden_layer, output_layer = initialize_network(n_inputs, 2, n_outputs)\n",
    "        train_network(hidden_layer, output_layer, subset, 0.05, 200, n_outputs)\n",
    "        \n",
    "        for instance in dataset[prev:i, :]:\n",
    "            predictions.append(predict(hidden_layer, output_layer, instance))\n",
    "            actual.append(instance[-1])\n",
    "        prev = i\n",
    "        count += 1\n",
    "    return accuracy(predictions, actual)"
   ]
  },
  {
   "cell_type": "code",
   "execution_count": 26,
   "metadata": {},
   "outputs": [
    {
     "name": "stdout",
     "output_type": "stream",
     "text": [
      "Total Correct: 9/14 = 64.28571428571429%\n",
      "Total Incorrect: 5/14 = 35.714285714285715%\n"
     ]
    }
   ],
   "source": [
    "weather = handle_attributes(readArff('weather.nominal'))\n",
    "full_dataset_test(weather)"
   ]
  },
  {
   "cell_type": "code",
   "execution_count": 27,
   "metadata": {},
   "outputs": [
    {
     "name": "stdout",
     "output_type": "stream",
     "text": [
      "Total Correct: 9/14 = 64.28571428571429%\n",
      "Total Incorrect: 5/14 = 35.714285714285715%\n"
     ]
    }
   ],
   "source": [
    "hold_one_out(weather)"
   ]
  },
  {
   "cell_type": "code",
   "execution_count": 28,
   "metadata": {},
   "outputs": [],
   "source": [
    "lenses = handle_attributes(readArff('contact-lenses'))"
   ]
  },
  {
   "cell_type": "code",
   "execution_count": 29,
   "metadata": {},
   "outputs": [
    {
     "name": "stdout",
     "output_type": "stream",
     "text": [
      "Total Correct: 18/24 = 75.0%\n",
      "Total Incorrect: 6/24 = 25.0%\n"
     ]
    }
   ],
   "source": [
    "full_dataset_test(lenses)"
   ]
  },
  {
   "cell_type": "code",
   "execution_count": 30,
   "metadata": {},
   "outputs": [
    {
     "name": "stdout",
     "output_type": "stream",
     "text": [
      "Total Correct: 13/24 = 54.166666666666664%\n",
      "Total Incorrect: 11/24 = 45.83333333333333%\n"
     ]
    }
   ],
   "source": [
    "hold_one_out(lenses)"
   ]
  },
  {
   "cell_type": "code",
   "execution_count": 31,
   "metadata": {},
   "outputs": [],
   "source": [
    "titanic = handle_attributes(readArff('titanic'))"
   ]
  },
  {
   "cell_type": "code",
   "execution_count": 32,
   "metadata": {},
   "outputs": [
    {
     "name": "stdout",
     "output_type": "stream",
     "text": [
      "Total Correct: 597/712 = 83.84831460674157%\n",
      "Total Incorrect: 115/712 = 16.15168539325843%\n"
     ]
    }
   ],
   "source": [
    "full_dataset_test(titanic)"
   ]
  },
  {
   "cell_type": "code",
   "execution_count": 33,
   "metadata": {},
   "outputs": [
    {
     "name": "stdout",
     "output_type": "stream",
     "text": [
      "Subset: 1\n",
      "Subset: 2\n",
      "Subset: 3\n",
      "Subset: 4\n",
      "Subset: 5\n",
      "Subset: 6\n",
      "Subset: 7\n",
      "Subset: 8\n",
      "Subset: 9\n",
      "Subset: 10\n",
      "Total Correct: 557/710 = 78.45070422535211%\n",
      "Total Incorrect: 153/710 = 21.549295774647888%\n"
     ]
    }
   ],
   "source": [
    "ten_fold_cross_validation(titanic)"
   ]
  },
  {
   "cell_type": "code",
   "execution_count": null,
   "metadata": {},
   "outputs": [],
   "source": []
  },
  {
   "cell_type": "code",
   "execution_count": null,
   "metadata": {},
   "outputs": [],
   "source": []
  }
 ],
 "metadata": {
  "kernelspec": {
   "display_name": "Python 3",
   "language": "python",
   "name": "python3"
  },
  "language_info": {
   "codemirror_mode": {
    "name": "ipython",
    "version": 3
   },
   "file_extension": ".py",
   "mimetype": "text/x-python",
   "name": "python",
   "nbconvert_exporter": "python",
   "pygments_lexer": "ipython3",
   "version": "3.7.0"
  }
 },
 "nbformat": 4,
 "nbformat_minor": 2
}
